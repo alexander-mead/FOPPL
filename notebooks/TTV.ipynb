{
 "cells": [
  {
   "cell_type": "code",
   "execution_count": null,
   "metadata": {},
   "outputs": [],
   "source": [
    "# Standard imports\n",
    "import numpy as np\n",
    "import matplotlib.pyplot as plt"
   ]
  },
  {
   "cell_type": "code",
   "execution_count": null,
   "metadata": {},
   "outputs": [],
   "source": [
    "# Parameters\n",
    "prog_set = 'TTV'\n",
    "\n",
    "# Sampling mode\n",
    "#sampling_method = 'desugar'\n",
    "sampling_method = 'graph'\n",
    "\n",
    "# Inference method\n",
    "#inference_method = None\n",
    "#inference_method = 'IS'\n",
    "inference_method = 'MH'\n",
    "#inference_method = 'MHG'\n",
    "#inference_method = 'HMC'"
   ]
  },
  {
   "cell_type": "code",
   "execution_count": null,
   "metadata": {},
   "outputs": [],
   "source": [
    "# Definitions\n",
    "def triangle_plots(dicts_of_samples, params, labels,\n",
    "    truths = None,\n",
    "    fig_size = 3.,\n",
    "    hist_bins = 'auto',\n",
    "    hist_density = True,\n",
    "    hist_alpha = 0.7,\n",
    "    scatter_alpha = 0.1,\n",
    "    scatter_size = 5.,\n",
    "    ):\n",
    "    '''\n",
    "    Makes a triangle plot\n",
    "    params:\n",
    "    dicts_of_samples: List of dictionaries of samples (e.g., dict['x'] = [1., 1.1, 1.3, ...])\n",
    "    params: List of names of parameters to plot (dictionary keys)\n",
    "    labels: List of axis labels corresponding to parameters\n",
    "    truths: List of true values of the parameters TODO: Option for None\n",
    "    '''\n",
    "    n = len(params)\n",
    "    fig, _ = plt.subplots(figsize=(n*fig_size, n*fig_size))\n",
    "    iplot = 0\n",
    "    samples = len(dicts_of_samples[0][params[0]])\n",
    "    for ir, (param_r, label_r) in enumerate(zip(params, labels)):\n",
    "        for ic, (param_c, label_c) in enumerate(zip(params, labels)):\n",
    "            iplot += 1\n",
    "            if ir == ic:\n",
    "                plt.subplot(n, n, iplot)\n",
    "                if truths is not None:\n",
    "                    plt.axvline(truths[ir], color='black', ls='--', alpha=0.7, label='Truth')\n",
    "                for dict_of_samples in dicts_of_samples:\n",
    "                    plt.hist(dict_of_samples[param_r], \n",
    "                        bins=hist_bins, density=hist_density, alpha=hist_alpha,\n",
    "                    )\n",
    "                plt.xlabel(label_r) if ic==n-1 else plt.gca().set_xticklabels([])\n",
    "                plt.yticks([])\n",
    "                mean = dict_of_samples[param_r].mean(); std = dict_of_samples[param_r].std()\n",
    "                plt.axvline(mean, color='k', ls='--', label='Mean: %1.2f'%mean)\n",
    "                plt.axvline(mean-std, color='k', ls=':', label='Std: %1.2f'%std)\n",
    "                plt.axvline(mean+std, color='k', ls=':')\n",
    "                #if and iplot == 1: plt.legend(loc='upper left', bbox_to_anchor=(1., 1.))\n",
    "                plt.legend()\n",
    "            elif ir > ic:\n",
    "                plt.subplot(n, n, iplot)\n",
    "                if truths is not None:\n",
    "                    plt.plot([truths[ic]], [truths[ir]], color='black', marker='x', alpha=0.7, label='Truth')\n",
    "                for dict_of_samples in dicts_of_samples:\n",
    "                    plt.scatter(dict_of_samples[param_c], dict_of_samples[param_r], \n",
    "                            alpha=scatter_alpha, s=scatter_size,\n",
    "                    )\n",
    "                plt.xlabel(label_c) if ir==n-1 else plt.gca().set_xticklabels([])\n",
    "                plt.ylabel(label_r) if ic==0 else plt.gca().set_yticklabels([])\n",
    "    plt.suptitle('Samples: {:,}'.format(samples))\n",
    "    plt.tight_layout()\n",
    "    plt.show()"
   ]
  },
  {
   "cell_type": "code",
   "execution_count": null,
   "metadata": {},
   "outputs": [],
   "source": [
    "# Program 1\n",
    "variables = ['$P$ [days]', '$e$', '$\\omega$', '$M-\\omega$']\n",
    "if inference_method is None:\n",
    "    file = './../data/TTV/1_%s.dat'%(sampling_method)\n",
    "else:\n",
    "    file = './../data/TTV/1_%s_%s.dat'%(sampling_method, inference_method)\n",
    "print('File:', file)\n",
    "data = np.loadtxt(file)\n",
    "samples_dict = [{'period': data[:, 1], 'eccentricity': data[:, 2], 'argument': data[:, 3], 'theta': data[:, 4]}]\n",
    "triangle_plots(samples_dict, params=['period', 'eccentricity', 'argument', 'theta'], labels=variables, fig_size=2.)\n",
    "#plot_traces(data, nr=1, nc=data.shape[1], names=variables, use_wandb=use_wandb, wandb_name='Samples: 1')"
   ]
  }
 ],
 "metadata": {
  "kernelspec": {
   "display_name": "Python 3.10.6 64-bit",
   "language": "python",
   "name": "python3"
  },
  "language_info": {
   "codemirror_mode": {
    "name": "ipython",
    "version": 3
   },
   "file_extension": ".py",
   "mimetype": "text/x-python",
   "name": "python",
   "nbconvert_exporter": "python",
   "pygments_lexer": "ipython3",
   "version": "3.10.6"
  },
  "orig_nbformat": 4,
  "vscode": {
   "interpreter": {
    "hash": "aee8b7b246df8f9039afb4144a1f6fd8d2ca17a180786b69acc140d282b71a49"
   }
  }
 },
 "nbformat": 4,
 "nbformat_minor": 2
}
