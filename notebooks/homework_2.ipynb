{
 "cells": [
  {
   "cell_type": "code",
   "execution_count": null,
   "metadata": {},
   "outputs": [],
   "source": [
    "# Standard imports\n",
    "import numpy as np\n",
    "import matplotlib.pyplot as plt\n",
    "import wandb"
   ]
  },
  {
   "cell_type": "code",
   "execution_count": null,
   "metadata": {},
   "outputs": [],
   "source": [
    "# Parameters\n",
    "sampling_method = 'desugar'\n",
    "#sampling_method = 'graph'\n",
    "use_wandb = False\n",
    "%env WANDB_NOTEBOOK_NAME='analysis.ipynb'"
   ]
  },
  {
   "cell_type": "code",
   "execution_count": null,
   "metadata": {},
   "outputs": [],
   "source": [
    "# Calculations\n",
    "if use_wandb: \n",
    "    wandb.init(project=\"test-project\", entity=\"cs532-2022\")"
   ]
  },
  {
   "cell_type": "code",
   "execution_count": null,
   "metadata": {},
   "outputs": [],
   "source": [
    "# Definitions\n",
    "def plot_dist(data, nr, nc, names=None, panel_size=5., verbose=True, use_wandb=False, wandb_name=None):\n",
    "    samples = data.shape[0]\n",
    "    n = data.shape[1]\n",
    "    fig, _ = plt.subplots(figsize=(nc*panel_size, nr*panel_size))\n",
    "    for i in range(n):\n",
    "        plt.subplot(nr, nc, 1+i)\n",
    "        mean = data[:, i].mean()\n",
    "        std = data[:, i].std()\n",
    "        if verbose:\n",
    "            print('Mean:', mean)\n",
    "            print('Std:', std)\n",
    "        plt.hist(data[:, i], bins='auto', color='C%d'%i)\n",
    "        plt.axvline(mean, color='black', ls='--', label='Mean: %1.2f'%mean)\n",
    "        plt.axvline(mean-std, color='black', ls=':', label='Std: %1.2f'%std)\n",
    "        plt.axvline(mean+std, color='black', ls=':')\n",
    "        if names is not None: plt.xlabel(names[i])\n",
    "        plt.yticks([])\n",
    "        plt.legend()\n",
    "    plt.suptitle('Samples: %d'%samples)\n",
    "    plt.tight_layout()\n",
    "    plt.show()\n",
    "    if use_wandb: wandb.log({wandb_name: wandb.Image(fig)})\n",
    "\n",
    "def plot_traces(data, nr, nc, names=None, panel_size=5., verbose=False, use_wandb=False, wandb_name=None):\n",
    "    samples = data.shape[0]\n",
    "    n = data.shape[1]\n",
    "    fig, _ = plt.subplots(figsize=(nc*panel_size, nr*panel_size))\n",
    "    for i in range(n):\n",
    "        plt.subplot(nr, nc, 1+i)\n",
    "        mean = data[:, i].mean()\n",
    "        std = data[:, i].std()\n",
    "        if verbose:\n",
    "            print('Mean:', mean)\n",
    "            print('Std:', std)\n",
    "        plt.plot(data[:, i], color='C%d'%i, alpha=0.3)\n",
    "        plt.scatter(list(range(samples)), data[:, i], color='C%d'%i, marker='.')#, alpha=0.3)\n",
    "        plt.axhline(mean, color='black', ls='--', label='Mean: %1.2f'%mean)\n",
    "        plt.axhline(mean-std, color='black', ls=':', label='Std: %1.2f'%std)\n",
    "        plt.axhline(mean+std, color='black', ls=':')\n",
    "        if names is not None: plt.ylabel(names[i])\n",
    "        plt.legend()\n",
    "        plt.xlabel('samples')\n",
    "        plt.xlim(left=0.)\n",
    "    plt.suptitle('Samples: %d'%samples)\n",
    "    plt.tight_layout()\n",
    "    plt.show()\n",
    "    if use_wandb: wandb.log({wandb_name: wandb.Image(fig)})\n",
    "\n",
    "def plot_heatmap(data, use_wandb=False, wandb_name=None):\n",
    "    xs = np.linspace(0, data.shape[1]-1, num=data.shape[1])\n",
    "    x = []; y = []\n",
    "    for i in range(data.shape[0]):\n",
    "        for j in range(data.shape[1]):\n",
    "            x.append(xs[j])\n",
    "            y.append(data[i, j])\n",
    "    fig, _ = plt.subplots(figsize=(19, 3))\n",
    "    plt.title('Number of samples: %d'%data.shape[0])\n",
    "    plt.hist2d(x, y, bins=(17, 3), range=[[-0.5, 16.5], [-0.5, 2.5]], vmin=0., vmax=data.shape[0], density=False, cmap='binary')\n",
    "    plt.xticks(list(range(17)))\n",
    "    plt.xlabel('State')\n",
    "    plt.yticks([0, 1, 2])\n",
    "    plt.ylabel('Value')\n",
    "    plt.colorbar(label='Number of samples')\n",
    "    plt.show()\n",
    "    if use_wandb: wandb.log({wandb_name: wandb.Image(fig)})"
   ]
  },
  {
   "cell_type": "code",
   "execution_count": null,
   "metadata": {},
   "outputs": [],
   "source": [
    "# Program 1\n",
    "variables = [r'$\\mu$']\n",
    "print('Program: 1')\n",
    "data = np.loadtxt('data/homework_2/1_%s.dat'%(sampling_method))\n",
    "data = np.atleast_2d(data).T\n",
    "print('Data shape:', data.shape)\n",
    "plot_dist(data, nr=1, nc=data.shape[1], names=variables, use_wandb=use_wandb, wandb_name='Program: 1')\n",
    "plot_traces(data, nr=1, nc=data.shape[1], names=variables, use_wandb=use_wandb, wandb_name='Samples: 1')"
   ]
  },
  {
   "cell_type": "code",
   "execution_count": null,
   "metadata": {},
   "outputs": [],
   "source": [
    "# Program 2\n",
    "variables = ['slope', 'bias']\n",
    "print('Program: 2')\n",
    "data = np.loadtxt('data/homework_2/2_%s.dat'%(sampling_method))\n",
    "print('Data shape:', data.shape)\n",
    "plot_dist(data, nr=1, nc=data.shape[1], names=variables, use_wandb=use_wandb, wandb_name='Program: 2')\n",
    "plot_traces(data, nr=1, nc=data.shape[1], names=variables, use_wandb=use_wandb, wandb_name='Samples: 2')"
   ]
  },
  {
   "cell_type": "code",
   "execution_count": null,
   "metadata": {},
   "outputs": [],
   "source": [
    "# Program 3\n",
    "data = np.loadtxt('data/homework_2/3_'+sampling_method+'.dat')\n",
    "plot_heatmap(data, use_wandb=use_wandb, wandb_name='Program: 3')"
   ]
  },
  {
   "cell_type": "code",
   "execution_count": null,
   "metadata": {},
   "outputs": [],
   "source": [
    "# Program 4\n",
    "data = np.loadtxt('data/homework_2/4_'+sampling_method+'.dat')\n",
    "print('Data shape:', data.shape)\n",
    "\n",
    "# W0\n",
    "variables = ['W_{0,%d)'%(i) for i in range(10)]\n",
    "plot_dist(data[:, 0:10], nr=1, nc=10, names=variables, panel_size=3, verbose=False, use_wandb=use_wandb, wandb_name='Program 4: W0')\n",
    "\n",
    "# b0\n",
    "variables = ['b_{0,%d)'%(i) for i in range(10)]\n",
    "plot_dist(data[:, 10:20], nr=1, nc=10, names=variables, panel_size=3, verbose=False, use_wandb=use_wandb, wandb_name='Program 4: b0')\n",
    "\n",
    "# W1\n",
    "variables = []\n",
    "for i in range(10):\n",
    "    for j in range(10):\n",
    "        variables.append('W_{1,%d%d)'%(i, j))\n",
    "plot_dist(data[:, 20:120], nr=10, nc=10, names=variables, panel_size=3, verbose=False, use_wandb=use_wandb, wandb_name='Program 4: W1')\n",
    "\n",
    "# b1\n",
    "variables = ['b_{1,%d)'%(i) for i in range(10)]\n",
    "plot_dist(data[:, 120:130], nr=1, nc=10, names=variables, panel_size=3, verbose=False, use_wandb=use_wandb, wandb_name='Program 4: b1')\n",
    "\n",
    "if use_wandb: wandb.finish()"
   ]
  }
 ],
 "metadata": {
  "kernelspec": {
   "display_name": "Python 3.9.13 64-bit",
   "language": "python",
   "name": "python3"
  },
  "language_info": {
   "codemirror_mode": {
    "name": "ipython",
    "version": 3
   },
   "file_extension": ".py",
   "mimetype": "text/x-python",
   "name": "python",
   "nbconvert_exporter": "python",
   "pygments_lexer": "ipython3",
   "version": "3.10.6"
  },
  "orig_nbformat": 4,
  "vscode": {
   "interpreter": {
    "hash": "aee8b7b246df8f9039afb4144a1f6fd8d2ca17a180786b69acc140d282b71a49"
   }
  }
 },
 "nbformat": 4,
 "nbformat_minor": 2
}
