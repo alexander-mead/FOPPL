{
 "cells": [
  {
   "cell_type": "code",
   "execution_count": null,
   "metadata": {},
   "outputs": [],
   "source": [
    "# Standard imports\n",
    "import numpy as np\n",
    "import matplotlib.pyplot as plt\n",
    "import wandb"
   ]
  },
  {
   "cell_type": "code",
   "execution_count": null,
   "metadata": {},
   "outputs": [],
   "source": [
    "# Parameters\n",
    "prog_set = 'homework_3'\n",
    "\n",
    "# Sampling mode\n",
    "sampling_method = 'desugar'\n",
    "#sampling_method = 'graph'\n",
    "\n",
    "# Inference method\n",
    "inference_method = 'None'\n",
    "#inference_method = 'IS'\n",
    "#inference_method = 'MH'\n",
    "#inference_method = 'MHG'\n",
    "#inference_method = 'HMC'\n",
    "\n",
    "# Weights & biases\n",
    "use_wandb = False\n",
    "%env WANDB_NOTEBOOK_NAME='homework_3.ipynb'"
   ]
  },
  {
   "cell_type": "code",
   "execution_count": null,
   "metadata": {},
   "outputs": [],
   "source": [
    "# Calculations\n",
    "if use_wandb: \n",
    "    wandb.init(project='test_homework3', entity='cs532-2022')"
   ]
  },
  {
   "cell_type": "code",
   "execution_count": null,
   "metadata": {},
   "outputs": [],
   "source": [
    "# Definitions\n",
    "def triangle_plots(dicts_of_samples, params, labels,\n",
    "    truths = None,\n",
    "    fig_size = 3.,\n",
    "    hist_bins = 'auto',\n",
    "    hist_density = True,\n",
    "    hist_alpha = 0.7,\n",
    "    scatter_alpha = 0.1,\n",
    "    scatter_size = 5.,\n",
    "    use_wandb = False,\n",
    "    wandb_name = None,\n",
    "    ):\n",
    "    '''\n",
    "    Makes a triangle plot\n",
    "    params:\n",
    "    dicts_of_samples: List of dictionaries of samples (e.g., dict['x'] = [1., 1.1, 1.3, ...])\n",
    "    params: List of names of parameters to plot (dictionary keys)\n",
    "    labels: List of axis labels corresponding to parameters\n",
    "    truths: List of true values of the parameters TODO: Option for None\n",
    "    '''\n",
    "    n = len(params)\n",
    "    fig, _ = plt.subplots(figsize=(n*fig_size, n*fig_size))\n",
    "    iplot = 0\n",
    "    samples = len(dicts_of_samples[0][params[0]])\n",
    "    for ir, (param_r, label_r) in enumerate(zip(params, labels)):\n",
    "        for ic, (param_c, label_c) in enumerate(zip(params, labels)):\n",
    "            iplot += 1\n",
    "            if ir == ic:\n",
    "                plt.subplot(n, n, iplot)\n",
    "                if truths is not None:\n",
    "                    plt.axvline(truths[ir], color='black', ls='--', alpha=0.7, label='Truth')\n",
    "                for dict_of_samples in dicts_of_samples:\n",
    "                    plt.hist(dict_of_samples[param_r], \n",
    "                        bins=hist_bins, density=hist_density, alpha=hist_alpha,\n",
    "                    )\n",
    "                plt.xlabel(label_r) if ic==n-1 else plt.gca().set_xticklabels([])\n",
    "                plt.yticks([])\n",
    "                mean = dict_of_samples[param_r].mean(); std = dict_of_samples[param_r].std()\n",
    "                plt.axvline(mean, color='k', ls='--', label='Mean: %1.2f'%mean)\n",
    "                plt.axvline(mean-std, color='k', ls=':', label='Std: %1.2f'%std)\n",
    "                plt.axvline(mean+std, color='k', ls=':')\n",
    "                #if and iplot == 1: plt.legend(loc='upper left', bbox_to_anchor=(1., 1.))\n",
    "                plt.legend()\n",
    "            elif ir > ic:\n",
    "                plt.subplot(n, n, iplot)\n",
    "                if truths is not None:\n",
    "                    plt.plot([truths[ic]], [truths[ir]], color='black', marker='x', alpha=0.7, label='Truth')\n",
    "                for dict_of_samples in dicts_of_samples:\n",
    "                    plt.scatter(dict_of_samples[param_c], dict_of_samples[param_r], \n",
    "                            alpha=scatter_alpha, s=scatter_size,\n",
    "                    )\n",
    "                plt.xlabel(label_c) if ir==n-1 else plt.gca().set_xticklabels([])\n",
    "                plt.ylabel(label_r) if ic==0 else plt.gca().set_yticklabels([])\n",
    "    plt.suptitle('Samples: {:,}'.format(samples))\n",
    "    plt.tight_layout()\n",
    "    plt.show()\n",
    "    if use_wandb: wandb.log({wandb_name: wandb.Image(fig)})\n",
    "\n",
    "\n",
    "def plot_traces(data, nr, nc, names=None, panel_size=5., verbose=False, use_wandb=False, wandb_name=None):\n",
    "    samples = data.shape[0]\n",
    "    n = data.shape[1]\n",
    "    fig, _ = plt.subplots(figsize=(nc*panel_size, nr*panel_size))\n",
    "    for i in range(n):\n",
    "        plt.subplot(nr, nc, 1+i)\n",
    "        mean = data[:, i].mean()\n",
    "        std = data[:, i].std()\n",
    "        if verbose:\n",
    "            print('Mean:', mean)\n",
    "            print('Std:', std)\n",
    "        plt.plot(data[:, i], color='C%d'%i, alpha=0.3)\n",
    "        plt.scatter(list(range(samples)), data[:, i], color='C%d'%i, marker='.', alpha=0.1)\n",
    "        plt.axhline(mean, color='black', ls='--', label='Mean: %1.2f'%mean)\n",
    "        plt.axhline(mean-std, color='black', ls=':', label='Std: %1.2f'%std)\n",
    "        plt.axhline(mean+std, color='black', ls=':')\n",
    "        if names is not None: plt.ylabel(names[i])\n",
    "        plt.legend()\n",
    "        plt.xlabel('samples')\n",
    "        plt.xlim(left=0.)\n",
    "    plt.suptitle('Samples: {:,}'.format(samples))\n",
    "    plt.tight_layout()\n",
    "    plt.show()\n",
    "    if use_wandb: wandb.log({wandb_name: wandb.Image(fig)})"
   ]
  },
  {
   "cell_type": "code",
   "execution_count": null,
   "metadata": {},
   "outputs": [],
   "source": [
    "# Program 1\n",
    "variables = [r'$\\mu$']\n",
    "file = 'data/homework_3/1_%s_%s.dat'%(sampling_method, inference_method)\n",
    "print('File:', file)\n",
    "data = np.loadtxt(file)\n",
    "data = np.atleast_2d(data).T\n",
    "print('Data shape:', np.squeeze(data.shape))\n",
    "samples_dict = [{'mu': data[:, 0]}]\n",
    "triangle_plots(samples_dict, params=['mu'], labels=variables, fig_size=5., use_wandb=use_wandb, wandb_name='Program: 1')\n",
    "plot_traces(data, nr=1, nc=data.shape[1], names=variables, use_wandb=use_wandb, wandb_name='Samples: 1')"
   ]
  },
  {
   "cell_type": "code",
   "execution_count": null,
   "metadata": {},
   "outputs": [],
   "source": [
    "# Program 2\n",
    "variables = ['slope', 'bias']\n",
    "file = 'data/homework_3/2_%s_%s.dat'%(sampling_method, inference_method)\n",
    "print('File:', file)\n",
    "data = np.loadtxt(file)\n",
    "samples_dict = [{'slope': data[:, 0], 'bias': data[:, 1]}]\n",
    "triangle_plots(samples_dict, params=variables, labels=variables, fig_size=4., use_wandb=use_wandb, wandb_name='Program: 2')\n",
    "plot_traces(data, nr=1, nc=data.shape[1], names=variables, use_wandb=use_wandb, wandb_name='Samples: 2')\n",
    "print('Covariance matrix:\\n', np.cov(data, bias=False, rowvar=False)) # TODO: Does not look correct"
   ]
  },
  {
   "cell_type": "code",
   "execution_count": null,
   "metadata": {},
   "outputs": [],
   "source": [
    "# Program 3\n",
    "if inference_method != 'HMC':\n",
    "    variables = ['Are the points from the same cluster?']\n",
    "    file = 'data/homework_3/3_%s_%s.dat'%(sampling_method, inference_method)\n",
    "    print('File:', file)\n",
    "    data = np.loadtxt(file)\n",
    "    data = np.atleast_2d(data).T\n",
    "    samples_dict = [{'x': data[:, 0]}]\n",
    "    triangle_plots(samples_dict, params=['x'], labels=variables, fig_size=5., use_wandb=use_wandb, wandb_name='Program: 3')\n",
    "    print('Probability:', variables[0], data.mean())"
   ]
  },
  {
   "cell_type": "code",
   "execution_count": null,
   "metadata": {},
   "outputs": [],
   "source": [
    "# Program 4\n",
    "if inference_method != 'HMC':\n",
    "    variables = ['Is it raining?']\n",
    "    file = 'data/homework_3/4_%s_%s.dat'%(sampling_method, inference_method)\n",
    "    print('File:', file)\n",
    "    data = np.loadtxt(file)\n",
    "    data = np.atleast_2d(data).T\n",
    "    samples_dict = [{'x': data[:, 0]}]\n",
    "    triangle_plots(samples_dict, params=['x'], labels=variables, fig_size=5., use_wandb=use_wandb, wandb_name='Program: 4')\n",
    "    print('Probability:', variables[0], data.mean())"
   ]
  },
  {
   "cell_type": "code",
   "execution_count": null,
   "metadata": {},
   "outputs": [],
   "source": [
    "# Program 5\n",
    "variables = ['x', 'y']\n",
    "file = 'data/homework_3/5_%s_%s.dat'%(sampling_method, inference_method)\n",
    "print('File:', file)\n",
    "data = np.loadtxt(file)\n",
    "samples_dict = [{'x': data[:, 0], 'y': data[:, 1]}]\n",
    "triangle_plots(samples_dict, params=['x', 'y'], labels=[r'$x$', r'$y$'], fig_size=4., use_wandb=use_wandb, wandb_name='Program: 5')\n",
    "plot_traces(data, nr=1, nc=data.shape[1], names=variables, use_wandb=use_wandb, wandb_name='Samples: 5')\n",
    "print('Covariance matrix:\\n', np.cov(data, bias=False, rowvar=False))"
   ]
  },
  {
   "cell_type": "code",
   "execution_count": null,
   "metadata": {},
   "outputs": [],
   "source": [
    "# Finish W&B\n",
    "if use_wandb:\n",
    "    wandb.finish()"
   ]
  }
 ],
 "metadata": {
  "kernelspec": {
   "display_name": "Python 3.9.13 64-bit",
   "language": "python",
   "name": "python3"
  },
  "language_info": {
   "codemirror_mode": {
    "name": "ipython",
    "version": 3
   },
   "file_extension": ".py",
   "mimetype": "text/x-python",
   "name": "python",
   "nbconvert_exporter": "python",
   "pygments_lexer": "ipython3",
   "version": "3.10.6"
  },
  "orig_nbformat": 4,
  "vscode": {
   "interpreter": {
    "hash": "aee8b7b246df8f9039afb4144a1f6fd8d2ca17a180786b69acc140d282b71a49"
   }
  }
 },
 "nbformat": 4,
 "nbformat_minor": 2
}
